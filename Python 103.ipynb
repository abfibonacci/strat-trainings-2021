{
 "cells": [
  {
   "cell_type": "markdown",
   "metadata": {},
   "source": [
    "**Welcome to Python 103!**"
   ]
  },
  {
   "cell_type": "markdown",
   "metadata": {},
   "source": [
    "Last week, we covered datatypes and their corresponding methods. This week, we'll be talking about loops and logic statements, including For loops, While loops, and If/Elif/Else statements. Let's get to work!"
   ]
  },
  {
   "cell_type": "markdown",
   "metadata": {},
   "source": [
    "**FOR LOOPS**"
   ]
  },
  {
   "cell_type": "markdown",
   "metadata": {},
   "source": [
    "There are many instances in which we'd want to repeat a certain task again and again until we reach a certain point or criteria. To perform this task repition, we'd use a \"for\" loop. There are two types of for loops:\n",
    "\n",
    "1) Object-based for loops. These loops go over the *objects* in an iterable (which is basically another objects that contains multiple items, like a list) and performs a certain task.\n",
    "\n",
    "2) Numeric for loops. These loops repeat a task a certain number of times (that you specify) by increasing a temporary variable by one each time it performs the task (until it hits that max number). \n",
    "\n",
    "Object-based for loops have the following structure:"
   ]
  },
  {
   "cell_type": "code",
   "execution_count": null,
   "metadata": {},
   "outputs": [],
   "source": [
    "for object in iterable:\n",
    "    *do something*\n"
   ]
  },
  {
   "cell_type": "markdown",
   "metadata": {},
   "source": [
    "Numeric for loops have this structure:"
   ]
  },
  {
   "cell_type": "code",
   "execution_count": null,
   "metadata": {},
   "outputs": [],
   "source": [
    "for i in range(start, end, step):\n",
    "    *do something*\n"
   ]
  },
  {
   "cell_type": "markdown",
   "metadata": {},
   "source": [
    "As you're going through an iterable, like a list, the object-based loop will refer to the current item you're on with a temporary variable name (which will go where the word \"object\" is). In a numeric for loop, the loop will set a temporary variable \"i\" (or whatever name you give it, doesn't really matter) equal to the start number, and then depending on the code you write inside the loop, use it to count something or access the indexes of a list. This temporary integer is automatically increased by 1 once the code inside the loop has finished running, and then the code runs **AGAIN**. This process repeats until the temporary integer \"i\" reaches **ONE LESS** than the end number. \n",
    "\n",
    "Furthermore, you can also use a step variable to indiciate how much to \"count by\". Traditionally, Python will count by 1's...1, 2, 3, so on. However, if we set step to say, 10, Python will start at the start number and keep adding ten until it reaches the greatest possible number (hypothetically, one less than the end number). You can also have a negative step to go backwards, but of course, you would have to make the start number greater than the end; in this case, the loop stop at **ONE GREATER** than the end number. Most of the times, we won't use this step parameter at all, but it does have its uses. \n",
    "\n",
    "\n",
    "\n",
    "That's a lot of words...it'll make more sense with code. Here's an example of an object-based for loop using a list called nameRoster:"
   ]
  },
  {
   "cell_type": "code",
   "execution_count": 11,
   "metadata": {},
   "outputs": [
    {
     "name": "stdout",
     "output_type": "stream",
     "text": [
      "Jane\n",
      "Liam\n",
      "Kiana\n",
      "Taylor\n",
      "Avi\n"
     ]
    }
   ],
   "source": [
    "nameRoster = [\"Jane\", \"Liam\", \"Kiana\", \"Taylor\", \"Avi\" ]\n",
    "\n",
    "for name in nameRoster:\n",
    "    print(name)"
   ]
  },
  {
   "cell_type": "markdown",
   "metadata": {},
   "source": [
    "This loop starts at the name \"Jane\", referring to it as the variable *name*, and then runs the code inside, which tells Python to print the variable *name*. Python prints the String \"Jane\". The next time the loops runs, the variable *name* is set to \"Liam\", and then prints the variable *name*. Python proceeds like this until we have gone through the entire list.\n",
    "\n",
    "These object-based for loops are normally preferred because they're less of a hassle to type and easier to look at, but there are certainly instances where we want a numeric for loop...\n",
    "\n",
    "Let's say we want to find the index in nameRoster where \"Taylor\" is located. We could do this with a numeric for loop:"
   ]
  },
  {
   "cell_type": "code",
   "execution_count": 2,
   "metadata": {},
   "outputs": [
    {
     "name": "stdout",
     "output_type": "stream",
     "text": [
      "3\n"
     ]
    }
   ],
   "source": [
    "for i in range(0, len(nameRoster)):\n",
    "    if(nameRoster[i] == \"Taylor\"):\n",
    "        print(i)"
   ]
  },
  {
   "cell_type": "markdown",
   "metadata": {},
   "source": [
    "Notice how we didn't manually type in the length of the list nameRoster...we used a function to evaluate it, so that way, if the list changes, we don't have to manually alter this value. It's already taken care of! \n",
    "\n",
    "You should always try to make your code as dynamic as possible — that is, try to account for changing values as much as possible. In the example above, we should've actually set \"Taylor\" to a variable as such: "
   ]
  },
  {
   "cell_type": "code",
   "execution_count": 5,
   "metadata": {},
   "outputs": [
    {
     "name": "stdout",
     "output_type": "stream",
     "text": [
      "3\n"
     ]
    }
   ],
   "source": [
    "targetName = \"Taylor\"\n",
    "\n",
    "for i in range(0, len(nameRoster)):\n",
    "    if(nameRoster[i] == targetName):\n",
    "        print(i)"
   ]
  },
  {
   "cell_type": "markdown",
   "metadata": {},
   "source": [
    "Now, we just change the targetName variable to find the index of other names:"
   ]
  },
  {
   "cell_type": "code",
   "execution_count": 6,
   "metadata": {},
   "outputs": [
    {
     "name": "stdout",
     "output_type": "stream",
     "text": [
      "4\n"
     ]
    }
   ],
   "source": [
    "targetName = \"Avi\"\n",
    "\n",
    "for i in range(0, len(nameRoster)):\n",
    "    if(nameRoster[i] == targetName):\n",
    "        print(i)"
   ]
  },
  {
   "cell_type": "code",
   "execution_count": 7,
   "metadata": {},
   "outputs": [
    {
     "name": "stdout",
     "output_type": "stream",
     "text": [
      "2\n"
     ]
    }
   ],
   "source": [
    "targetName = \"Kiana\"\n",
    "\n",
    "for i in range(0, len(nameRoster)):\n",
    "    if(nameRoster[i] == targbetName):\n",
    "        print(i)"
   ]
  },
  {
   "cell_type": "markdown",
   "metadata": {},
   "source": [
    "Note that we could also accomplish the same task with an object-based for loop:"
   ]
  },
  {
   "cell_type": "code",
   "execution_count": 8,
   "metadata": {},
   "outputs": [
    {
     "name": "stdout",
     "output_type": "stream",
     "text": [
      "2\n"
     ]
    }
   ],
   "source": [
    "targetName = \"Kiana\"\n",
    "\n",
    "for name in nameRoster:\n",
    "    if(name == targetName):\n",
    "        print(nameRoster.index(name))"
   ]
  },
  {
   "cell_type": "markdown",
   "metadata": {},
   "source": [
    "The two types of loops are almost always interchangeable (you can accomplish the same task with both), but ultimately you have to decide what makes more sense. If you're tracking indexes, a numeric loop might be more ideal, but if not, then the object-based loop is probably going to make your life easier. You'll gain more intuition for deciding between the two as you practice."
   ]
  },
  {
   "cell_type": "markdown",
   "metadata": {},
   "source": [
    "**WHILE LOOPS**"
   ]
  },
  {
   "cell_type": "markdown",
   "metadata": {},
   "source": [
    "The purpose of while loops is to let you repeat a certain task until a criteria is met. The other loops we've seen so far ensure (at least for now) that you go through the entire iterable, but if we're looking for only one thing, isn't it a waste of time to look through the rest of the code once we've found what we're looking for?\n",
    "\n",
    "To give a more concrete example, let's consider the list myHobbies:"
   ]
  },
  {
   "cell_type": "code",
   "execution_count": 12,
   "metadata": {},
   "outputs": [],
   "source": [
    "myHobbies = [\"Bird feeding\", \"Coin collecting\", \"Candlemaking\", \"Carpenting\", \"Candlemaking\"]"
   ]
  },
  {
   "cell_type": "markdown",
   "metadata": {},
   "source": [
    "As bizarre as these hobbies are, let's say we want to check whether \"Candlemaking\" is in this list. Obviously, we could use a function like \"index()\" to check whether or not it's in the list, but let's try it with an object-based for loop:"
   ]
  },
  {
   "cell_type": "code",
   "execution_count": 13,
   "metadata": {},
   "outputs": [
    {
     "name": "stdout",
     "output_type": "stream",
     "text": [
      "Why, hello there fellow candlemaker!\n",
      "Why, hello there fellow candlemaker!\n"
     ]
    }
   ],
   "source": [
    "for hobby in myHobbies:\n",
    "    if(hobby == \"Candlemaking\"):\n",
    "        print(\"Why, hello there fellow candlemaker!\")"
   ]
  },
  {
   "cell_type": "markdown",
   "metadata": {},
   "source": [
    "Since \"Candlemaking\" was in the list twice, the print statement was run twice, as expected. But we don't REALLY care about that second time...it might as well stop checking after it finds \"Candlemaking\" the first time. \n",
    "\n",
    "This is where while loops come in. A generic while loop has the following structure:"
   ]
  },
  {
   "cell_type": "code",
   "execution_count": null,
   "metadata": {},
   "outputs": [],
   "source": [
    "while(criteria is True):\n",
    "    *do something*"
   ]
  },
  {
   "cell_type": "markdown",
   "metadata": {},
   "source": [
    "The criteria must be a Truth expression; this expression is normally changed to \"False\" inside the while loop once we're done with our task. Because the loop checks the value of the truth expression EVERY time it runs code (or directly after), once we set the truth expression to False, the loop is broken! Let's try it with our above example:"
   ]
  },
  {
   "cell_type": "code",
   "execution_count": 15,
   "metadata": {},
   "outputs": [
    {
     "name": "stdout",
     "output_type": "stream",
     "text": [
      "Why, hello there fellow candlemaker!\n"
     ]
    }
   ],
   "source": [
    "hobbyFound = False\n",
    "currIndex = 0\n",
    "desiredHobby = \"Candlemaking\"\n",
    "\n",
    "while(not(hobbyFound)):\n",
    "    if(myHobbies[currIndex] == desiredHobby):\n",
    "        print(\"Why, hello there fellow candlemaker!\")\n",
    "        hobbyFound = True\n",
    "    else: #think of this in English terms for now...\n",
    "        currIndex += 1"
   ]
  },
  {
   "cell_type": "markdown",
   "metadata": {},
   "source": [
    "The print statement is only run once! This is far more efficient than checking through the entire list (especially for really large lists, which we will certainly be dealing with).\n",
    "\n",
    "A couple more things. First, look at how we used the not() function to make our code more sensible. We set our variable hobbyFound to False because we hadn't found the hobby yet, but because the while loop will only run if the truth expression inside it is True, we used not() to invert its value. In English, this makes a lot of sense...\"while we haven't found the desired hobby, keep looking!\" \n",
    "\n",
    "Secondly, you might've noticed this weird \"+=\" sign. A lot of the times, we want to set a variable to something plus (or some other mathematical operation) itself. In other words, \"+= 1\" tells Python to set currIndex = currIndex + 1. \n",
    "\n",
    "We can do this with other mathematical operations too:"
   ]
  },
  {
   "cell_type": "code",
   "execution_count": 24,
   "metadata": {},
   "outputs": [
    {
     "name": "stdout",
     "output_type": "stream",
     "text": [
      "12\n",
      "54\n",
      "2.0\n",
      "-2\n",
      "36\n",
      "2\n"
     ]
    }
   ],
   "source": [
    "num = 6\n",
    "\n",
    "#num = num + 6\n",
    "num += 6\n",
    "print(num)\n",
    "\n",
    "#num = num * 9\n",
    "num = 6\n",
    "num *= 9\n",
    "print(num)\n",
    "\n",
    "#num = num/3 \n",
    "num = 6\n",
    "num /= 3\n",
    "print(num)\n",
    "\n",
    "#num = num - 8\n",
    "num = 6\n",
    "num -= 8\n",
    "print(num)\n",
    "\n",
    "#num = num ** 2\n",
    "num = 6\n",
    "num **= 2\n",
    "print(num)\n",
    "\n",
    "#num = num % 4\n",
    "num = 6\n",
    "num %= 4\n",
    "print(num)"
   ]
  },
  {
   "cell_type": "markdown",
   "metadata": {},
   "source": [
    "**IF, ELSE, and ELIF** "
   ]
  },
  {
   "cell_type": "markdown",
   "metadata": {},
   "source": [
    "We've been throwing around \"if\" statements a lot now...you have seen them in these last two trainings, and we've been telling you to interpret them in terms of \"english\" for that time. Now we'll explain what if statements actually are...\n",
    "\n",
    "As it turns out, if statements work in Python almost exactly like they work in English. IF something is true, do thing 1, if not, do something else. This is the general structure of an IF statement: "
   ]
  },
  {
   "cell_type": "code",
   "execution_count": null,
   "metadata": {},
   "outputs": [],
   "source": [
    "if(criteria is True):\n",
    "    *do something*\n",
    "else:\n",
    "    *do something else*"
   ]
  },
  {
   "cell_type": "markdown",
   "metadata": {},
   "source": [
    "Often though, we don't just want an \"either/or\", we want MULTIPLE options. We can use an \"elif\" segment inside the if/else statement to do this:"
   ]
  },
  {
   "cell_type": "code",
   "execution_count": null,
   "metadata": {},
   "outputs": [],
   "source": [
    "if(criteria is True):\n",
    "    *do something*\n",
    "elif(criteria2 is True):\n",
    "    *do another thing*\n",
    "elif(criteria3 is True):\n",
    "    *do yet another thing*\n",
    "else:\n",
    "    *do something else*"
   ]
  },
  {
   "cell_type": "markdown",
   "metadata": {},
   "source": [
    "This is more or less the same thing as the IFS() function in google sheets.\n",
    "\n",
    "The structure above basically keeps checking different criteria until it finds that one of them evaluates to True. If none of them do, then the code inside the Else segment is executed. It DOES NOT matter whether multiple criteria would technically be True — the first time a statement evaluates to True, Python runs the code inside that segment, and then exits the if/else/elif statement COMPLETELY. This is why ORDER matters a lot.\n",
    "\n",
    "Let's take an example with grades:\n",
    "\n"
   ]
  },
  {
   "cell_type": "code",
   "execution_count": 26,
   "metadata": {},
   "outputs": [
    {
     "name": "stdout",
     "output_type": "stream",
     "text": [
      "Good job, I guess???\n"
     ]
    }
   ],
   "source": [
    "myAvgGrade = 78.09\n",
    "badGrade = 43.0\n",
    "mehGrade = 65.54\n",
    "goodGrade = 80.23\n",
    "greatGrade = 93.45\n",
    "\n",
    "if(myAvgGrade >= greatGrade):\n",
    "    print(\"Nice job!\")\n",
    "elif(myAvgGrade >= goodGrade):\n",
    "    print(\"You probably studied a lot.\")\n",
    "elif(myAvgGrade >= mehGrade):\n",
    "    print(\"Good job, I guess???\")\n",
    "elif(myAvgGrade >= badGrade):\n",
    "    print(\"Eeeeeeeeeeeek...maybe no dinner tonight?\")\n",
    "else:\n",
    "    print(\"Sheesh!\")"
   ]
  },
  {
   "cell_type": "markdown",
   "metadata": {},
   "source": [
    "Watch what happens when we put the criteria in a different order..."
   ]
  },
  {
   "cell_type": "code",
   "execution_count": 27,
   "metadata": {},
   "outputs": [
    {
     "name": "stdout",
     "output_type": "stream",
     "text": [
      "Eeeeeeeeeeeek...maybe no dinner tonight?\n"
     ]
    }
   ],
   "source": [
    "myAvgGrade = 78.09\n",
    "badGrade = 43.0\n",
    "mehGrade = 65.54\n",
    "goodGrade = 80.23\n",
    "greatGrade = 93.45\n",
    "\n",
    "if(myAvgGrade >= greatGrade):\n",
    "    print(\"Nice job!\")\n",
    "elif(myAvgGrade >= badGrade):\n",
    "    print(\"Eeeeeeeeeeeek...maybe no dinner tonight?\")\n",
    "elif(myAvgGrade >= goodGrade):\n",
    "    print(\"You probably studied a lot.\")\n",
    "elif(myAvgGrade >= mehGrade):\n",
    "    print(\"Good job, I guess???\")\n",
    "else:\n",
    "    print(\"Sheesh!\")"
   ]
  },
  {
   "cell_type": "markdown",
   "metadata": {},
   "source": [
    "It gave us the wrong text...so be CAREFUL. If you want, you can think of this like the ordering of criteria for conditional formatting, because in fact, the logic and technicalities overlap quite a bit."
   ]
  },
  {
   "cell_type": "markdown",
   "metadata": {},
   "source": [
    "**103 EXERCISES** "
   ]
  },
  {
   "cell_type": "markdown",
   "metadata": {},
   "source": [
    "*Use BOTH a numerical and object-based for loop to accomplish the following tasks. If a list or variable is not provided, you are expected to create the variable yourself. If there is a function that could easily perform the same task as the loop you are expected to code, you may not use it (e.g. len() for computing the size of list). Look at the above examples if you need help with syntax.*"
   ]
  },
  {
   "cell_type": "markdown",
   "metadata": {},
   "source": [
    "1) For a list of strings called myFriends, find the index of where your bestFriend (another variable) is located."
   ]
  },
  {
   "cell_type": "code",
   "execution_count": 28,
   "metadata": {},
   "outputs": [],
   "source": [
    "#numerical\n",
    "\n",
    "\n",
    "\n",
    "\n",
    "\n",
    "\n",
    "\n",
    "\n",
    "\n",
    "#object-based\n",
    "\n",
    "\n",
    "\n",
    "\n",
    "\n",
    "\n",
    "\n"
   ]
  },
  {
   "cell_type": "markdown",
   "metadata": {},
   "source": [
    "2) For a list of integers called myEnglishGrades, find and print your best and worst grade."
   ]
  },
  {
   "cell_type": "code",
   "execution_count": 29,
   "metadata": {},
   "outputs": [],
   "source": [
    "#numerical\n",
    "\n",
    "\n",
    "\n",
    "\n",
    "\n",
    "\n",
    "\n",
    "\n",
    "\n",
    "#object-based\n",
    "\n",
    "\n",
    "\n",
    "\n",
    "\n",
    "\n",
    "\n"
   ]
  },
  {
   "cell_type": "markdown",
   "metadata": {},
   "source": [
    "3) For a list with contents and a name of your choice, find its length."
   ]
  },
  {
   "cell_type": "code",
   "execution_count": 30,
   "metadata": {},
   "outputs": [],
   "source": [
    "#numerical\n",
    "\n",
    "\n",
    "\n",
    "\n",
    "\n",
    "\n",
    "\n",
    "\n",
    "\n",
    "#object-based\n",
    "\n",
    "\n",
    "\n",
    "\n",
    "\n",
    "\n",
    "\n"
   ]
  },
  {
   "cell_type": "markdown",
   "metadata": {},
   "source": [
    "*For the following exercises, use ONE kind of loop (decide which one is optimal for the problem):*"
   ]
  },
  {
   "cell_type": "markdown",
   "metadata": {},
   "source": [
    "4) Given the list below, print all numbers that are divisible by 5 and STOP the loop when you find a number divisible by 150 (print something else here too)."
   ]
  },
  {
   "cell_type": "code",
   "execution_count": 31,
   "metadata": {},
   "outputs": [],
   "source": [
    "list1 = [12, 15, 32, 42, 55, 75, 122, 132, 150, 180, 200]\n",
    "\n",
    "#loop goes here\n",
    "\n",
    "\n",
    "\n",
    "\n",
    "\n",
    "\n"
   ]
  },
  {
   "cell_type": "markdown",
   "metadata": {},
   "source": [
    "5) Print the multiplication table of the number 4 (from the first to twentieth multiple).  "
   ]
  },
  {
   "cell_type": "code",
   "execution_count": 32,
   "metadata": {},
   "outputs": [],
   "source": [
    "#loop goes here\n",
    "\n",
    "\n",
    "\n",
    "\n",
    "\n",
    "\n"
   ]
  },
  {
   "cell_type": "markdown",
   "metadata": {},
   "source": [
    "6) Count the number of digits of ANY number...this code should really work for ALL numbers! "
   ]
  },
  {
   "cell_type": "code",
   "execution_count": 33,
   "metadata": {},
   "outputs": [],
   "source": [
    "#loop goes here\n",
    "\n",
    "\n",
    "\n",
    "\n",
    "\n",
    "\n"
   ]
  },
  {
   "cell_type": "markdown",
   "metadata": {},
   "source": [
    "7) Print the numbers which are divisible by 7 and 5 between 1500 and 2700 (both included)."
   ]
  },
  {
   "cell_type": "code",
   "execution_count": 34,
   "metadata": {},
   "outputs": [],
   "source": [
    "#loop goes here\n",
    "\n",
    "\n",
    "\n",
    "\n",
    "\n",
    "\n"
   ]
  },
  {
   "cell_type": "markdown",
   "metadata": {},
   "source": [
    "8) Find and count all the even and odd numbers in any given list. Format your print statement appropriately (you can use str() to convert numbers to Strings and the \"+\" symbol to join multiple Strings). "
   ]
  },
  {
   "cell_type": "code",
   "execution_count": 36,
   "metadata": {},
   "outputs": [],
   "source": [
    "#an example of using string concatentation: print(\"The magic number is:\" + str(3))\n",
    "\n",
    "#loop goes here\n",
    "\n",
    "\n",
    "\n",
    "\n",
    "\n",
    "\n"
   ]
  },
  {
   "cell_type": "markdown",
   "metadata": {},
   "source": [
    "9) **A CHALLENGE PROBLEM:** Print the following pattern:"
   ]
  },
  {
   "cell_type": "code",
   "execution_count": null,
   "metadata": {},
   "outputs": [],
   "source": [
    "*\n",
    "**\n",
    "***\n",
    "****\n",
    "*****"
   ]
  },
  {
   "cell_type": "markdown",
   "metadata": {},
   "source": [
    "Hint: it uses nested for loops...don't worry if you can't solve this quite yet. But, if you have a general idea, remember that you can indent lines..."
   ]
  },
  {
   "cell_type": "code",
   "execution_count": 37,
   "metadata": {},
   "outputs": [],
   "source": [
    "#loop goes here\n",
    "\n",
    "\n",
    "\n",
    "\n",
    "\n",
    "\n"
   ]
  }
 ],
 "metadata": {
  "kernelspec": {
   "display_name": "Python 3",
   "language": "python",
   "name": "python3"
  },
  "language_info": {
   "codemirror_mode": {
    "name": "ipython",
    "version": 3
   },
   "file_extension": ".py",
   "mimetype": "text/x-python",
   "name": "python",
   "nbconvert_exporter": "python",
   "pygments_lexer": "ipython3",
   "version": "3.8.5"
  }
 },
 "nbformat": 4,
 "nbformat_minor": 4
}
