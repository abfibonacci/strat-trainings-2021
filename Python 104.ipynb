{
 "cells": [
  {
   "cell_type": "markdown",
   "metadata": {},
   "source": [
    "**Welcome to Python 104!**"
   ]
  },
  {
   "cell_type": "markdown",
   "metadata": {},
   "source": [
    "Last week, we talked about loops and logic statements. This week, we will be covering two different toipcs: how to open, access, and overwrite files on your computer, as well as how to create your own functions. Let's get started!"
   ]
  },
  {
   "cell_type": "markdown",
   "metadata": {},
   "source": [
    "**CUSTOM FUNCTIONS**"
   ]
  },
  {
   "cell_type": "markdown",
   "metadata": {},
   "source": [
    "Sometimes in-built function don't do the exact jobs we want them to, in which case we can define our own functions. Custom functions have the following structure:"
   ]
  },
  {
   "cell_type": "code",
   "execution_count": null,
   "metadata": {},
   "outputs": [],
   "source": [
    "def myFunctionName(par1, par2, par3,...):\n",
    "    *do something*\n",
    "    return object\n"
   ]
  },
  {
   "cell_type": "markdown",
   "metadata": {},
   "source": [
    "myFunctionName is simply the name of your function, like \"print\" or \"startswith\" or \"join\". If you name the function the same as an inbuilt function in Python, your function will OVERRIDE Python's inbuilt function.\n",
    "\n",
    "The parameters are also what you'd expect: a certain number of objects (of any type) that the function needs to do its job. When calling your method, you MUST pass the same number of parameters as specified in your code for that function. The only exception to this is when you give parameters \"default values\" (we will show you how to do this in just a second), i.e. telling Python to automatically set a parameter to a previously specified value if not given by the user.\n",
    "\n",
    "The body of the code is where you will write...well, the code for the function itself. All your loops and logic will go here.\n",
    "\n",
    "Lastly, ever function has a return statement. If you remember, certain functions will return an integer value (like index()), and others return booleans (startswith). You, too, will need to specify an object to return. This object can be of any type you wish. For functions where you only wish to print a set of Strings will have a \"None\" return type (if you're just printing things, you don't actually need to have a return statement, as it will automatically return a \"None\" type). \n",
    "\n",
    "Here's an example of a function called dogGoesBark():"
   ]
  },
  {
   "cell_type": "code",
   "execution_count": 2,
   "metadata": {},
   "outputs": [
    {
     "name": "stdout",
     "output_type": "stream",
     "text": [
      "Cool! Marie barked at 10 decibels! Yay!\n"
     ]
    }
   ],
   "source": [
    "def dogGoesBark(dogName, doesItBark, decibelVolume):\n",
    "    if(doesItBark):\n",
    "        print(\"Cool! \" + dogName + \" barked at \" + str(decibelVolume) + \" decibels! Yay!\")\n",
    "    else:\n",
    "        print(\"Aww, you're a quiet doggo, aren't you?\")\n",
    "\n",
    "        \n",
    "dogGoesBark(\"Marie\", True, 10)"
   ]
  },
  {
   "cell_type": "markdown",
   "metadata": {},
   "source": [
    "The above dogGoesBark() method doesn't return anything, but the following method, isAGoodDog() does..."
   ]
  },
  {
   "cell_type": "code",
   "execution_count": 3,
   "metadata": {},
   "outputs": [
    {
     "name": "stdout",
     "output_type": "stream",
     "text": [
      "Bad doggo!\n"
     ]
    },
    {
     "data": {
      "text/plain": [
       "False"
      ]
     },
     "execution_count": 3,
     "metadata": {},
     "output_type": "execute_result"
    }
   ],
   "source": [
    "def isAGoodDog(dogName, eatsShoes, barksLoudly):\n",
    "    if(eatsShoes or barksLoudly):\n",
    "        print(\"Bad doggo!\")\n",
    "        return False\n",
    "    else:\n",
    "        print(\"Goooooood doggo!\")\n",
    "        return True\n",
    "\n",
    "isAGoodDog(\"Jeff\", True, False)"
   ]
  },
  {
   "cell_type": "markdown",
   "metadata": {},
   "source": [
    "Notice that the function did print something to the console, but it ALSO returned a boolean value. This is useful because we can then directly set a variable to this value, or perform another operation with it. The print statements are normally for user convenience, whereas the return statements are what the computer really cares about.\n",
    "\n",
    "As we said before, there's also a way to give parameters \"default values\". Observe:"
   ]
  },
  {
   "cell_type": "code",
   "execution_count": 5,
   "metadata": {},
   "outputs": [
    {
     "name": "stdout",
     "output_type": "stream",
     "text": [
      "Cool! Marie barked at 10 decibels! Yay!\n",
      "Cool! Carrie barked at 20 decibels! Yay!\n",
      "Aww, you're a quiet doggo, aren't you, Liam?\n"
     ]
    }
   ],
   "source": [
    "def dogGoesBark(dogName, doesItBark, decibelVolume = 20):\n",
    "    if(doesItBark):\n",
    "        print(\"Cool! \" + dogName + \" barked at \" + str(decibelVolume) + \" decibels! Yay!\")\n",
    "    else:\n",
    "        print(\"Aww, you're a quiet doggo, aren't you, \" + dogName + \"?\")\n",
    "\n",
    "        \n",
    "dogGoesBark(\"Marie\", True, 10)\n",
    "dogGoesBark(\"Carrie\", True)\n",
    "dogGoesBark(\"Liam\", False)"
   ]
  },
  {
   "cell_type": "markdown",
   "metadata": {},
   "source": [
    "Setting the parameter decibelVolume to the integer 20 beforehand insured that if the user failed to pass that parameter, 20 would be the default. And indeed, looking at the example with the dog \"Carrie\", we see that this default did work! \n"
   ]
  },
  {
   "cell_type": "markdown",
   "metadata": {},
   "source": [
    "**OPENING, READING, AND WRITING TO FILES**"
   ]
  },
  {
   "cell_type": "markdown",
   "metadata": {},
   "source": [
    "Oftentimes, we don't have all the data we need with us, or perhaps it's simply too much data to manually type as a list or String. In this case, we will probably need to read the data from a locally stored file on a computer. \n",
    "\n",
    "Go to the following link and follow along with the code (i.e., type what the author types and run the code): https://www.pythonforbeginners.com/files/reading-and-writing-files-in-python.\n",
    "\n",
    "*Quick note: when creating the text file, make sure you save it in the same folder as this jupyter notebook!*\n",
    "\n",
    "Run your code here:"
   ]
  },
  {
   "cell_type": "code",
   "execution_count": 3,
   "metadata": {},
   "outputs": [],
   "source": [
    "#Your code goes here\n",
    "    \n",
    "    \n",
    "    \n",
    "    \n",
    "    \n"
   ]
  },
  {
   "cell_type": "markdown",
   "metadata": {},
   "source": [
    "**104 EXERCISES**"
   ]
  },
  {
   "cell_type": "markdown",
   "metadata": {},
   "source": [
    "*Create functions that perform the following tasks and meet the corresponding criteria.*"
   ]
  },
  {
   "cell_type": "markdown",
   "metadata": {},
   "source": [
    "1. Create a function that lets you go through a roster of names and find a target name (both should be parameters); the function should return the index where the target name was found."
   ]
  },
  {
   "cell_type": "code",
   "execution_count": 4,
   "metadata": {},
   "outputs": [],
   "source": [
    "#Your code goes here\n",
    "\n",
    "\n",
    "\n"
   ]
  },
  {
   "cell_type": "markdown",
   "metadata": {},
   "source": [
    "2. Create a function that takes a list of grades (doubles) and prints out the average grade, max grade, and min grade. Format these strings (i.e. \"The average grade is\" + str(avgGrade)\" should be what your print statements look like) accordingly. THEN return a value of True if the avgGrade is greater than an 80, and a value of False otherwise (so it returns a booleans). "
   ]
  },
  {
   "cell_type": "code",
   "execution_count": 5,
   "metadata": {},
   "outputs": [],
   "source": [
    "#Your code goes here\n",
    "\n",
    "\n",
    "\n"
   ]
  },
  {
   "cell_type": "markdown",
   "metadata": {},
   "source": [
    "3. Create a function that counts the number of names in a list that start with a vowel (not including \"Y\"). Return this count."
   ]
  },
  {
   "cell_type": "code",
   "execution_count": 8,
   "metadata": {},
   "outputs": [],
   "source": [
    "#Your code goes here\n",
    "\n",
    "\n",
    "\n"
   ]
  },
  {
   "cell_type": "markdown",
   "metadata": {},
   "source": [
    "4. Create a function that mimics a \"cat\". Have variables like isHungry, isThirsty, isCranky, etc, and return corresponding Strings. Have fun with this one!"
   ]
  },
  {
   "cell_type": "code",
   "execution_count": 7,
   "metadata": {},
   "outputs": [],
   "source": [
    "#Your code goes here\n",
    "\n",
    "\n",
    "\n"
   ]
  },
  {
   "cell_type": "markdown",
   "metadata": {},
   "source": [
    "5. Create a function that mocks a \"Status Report\". Have statistics for this status report (you have complete creative freedom here) that are computed from lists or other objects that are passed in as parameters. Return the formatted string (use \"/n\" to create a newline (similar to the \"enter\" button's functionality)). THEN, call this function and write the returned String into a NEW textfile of your choice (make sure it's in this same file as this jupyter notebook). Lastly, write \"yay done.\" into that same textfile.\n",
    "\n",
    "  Check the textfile after the code has run to make sure its contents were changed!"
   ]
  },
  {
   "cell_type": "code",
   "execution_count": 10,
   "metadata": {},
   "outputs": [],
   "source": [
    "#Your code goes here\n",
    "\n",
    "\n",
    "\n"
   ]
  }
 ],
 "metadata": {
  "kernelspec": {
   "display_name": "Python 3",
   "language": "python",
   "name": "python3"
  },
  "language_info": {
   "codemirror_mode": {
    "name": "ipython",
    "version": 3
   },
   "file_extension": ".py",
   "mimetype": "text/x-python",
   "name": "python",
   "nbconvert_exporter": "python",
   "pygments_lexer": "ipython3",
   "version": "3.8.5"
  }
 },
 "nbformat": 4,
 "nbformat_minor": 4
}
