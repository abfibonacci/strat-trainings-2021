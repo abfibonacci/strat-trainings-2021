{
 "cells": [
  {
   "cell_type": "markdown",
   "metadata": {},
   "source": [
    "**Welcome to Python 102!** \n",
    "\n",
    "Last week, we covered some of the basics of Python, including syntax, functions, and datatypes. Today, we are going to discuss how datatypes and functions interact.\n",
    "\n",
    "Datatypes — like Strings, integers, doubles, booleans, and lists — all have some inbuilt functions (with similar functionality to google sheets) that relate to their specific type.\n",
    "\n",
    "We previously examined a function called startswith(), which can be used only with Strings. But, of course, there are several functions like this, and some of them are exclusive to integers, lists, booleans, or other datatypes. We will go through the most common, necessary functions for each datatype in this training.\n",
    "\n",
    "Without further ado, let's get started!"
   ]
  },
  {
   "cell_type": "markdown",
   "metadata": {},
   "source": [
    "**STRINGS**"
   ]
  },
  {
   "cell_type": "markdown",
   "metadata": {},
   "source": [
    "In Python, we say that each letter in a String is located at an index. The indexes (positions) begin at **0**. For the String \"bands\", we have the letter \"b\" at index **0**, \"a\" at index 1, \"n\" at index 3, and so on so forth. \n",
    "\n",
    "We can access a certain index by typing the following:\n",
    "\n",
    "stringName[index#]\n"
   ]
  },
  {
   "cell_type": "code",
   "execution_count": 6,
   "metadata": {},
   "outputs": [
    {
     "name": "stdout",
     "output_type": "stream",
     "text": [
      "b\n"
     ]
    }
   ],
   "source": [
    "str1 = \"bands\"\n",
    "print(str1[0])"
   ]
  },
  {
   "cell_type": "markdown",
   "metadata": {},
   "source": [
    "The above code accesses the first index of the str1, which is equal to the word \"bands.\" In the cell below, access the fifth index of str2, which holds the String \"applesauce\". "
   ]
  },
  {
   "cell_type": "code",
   "execution_count": 12,
   "metadata": {},
   "outputs": [],
   "source": [
    "#Your code goes here (to run the code, click Shift + Enter)\n",
    "\n",
    "\n"
   ]
  },
  {
   "cell_type": "markdown",
   "metadata": {},
   "source": [
    "Sometimes, we want to know the index of a certain letter or phrase in a String. To do this, we use the find() method.\n",
    "\n",
    "We call the find() method (aka a function, these can be used interchangeably) by typing the following:\n",
    "\n",
    "stringName.find(\"stringWeWantToFind\")"
   ]
  },
  {
   "cell_type": "code",
   "execution_count": 5,
   "metadata": {},
   "outputs": [
    {
     "name": "stdout",
     "output_type": "stream",
     "text": [
      "12\n",
      "77\n",
      "32\n"
     ]
    }
   ],
   "source": [
    "mySentence = \"Sally Smith sells sea shells on the sea shore and donates the profits to the local panda shelter.\"\n",
    "print(mySentence.find(\"sells\"))\n",
    "print(mySentence.find(\"local\"))\n",
    "print(mySentence.find(\"the\"))"
   ]
  },
  {
   "cell_type": "markdown",
   "metadata": {},
   "source": [
    "Two notes: \n",
    "\n",
    "1)If we use the find() method and pass a parameter that occurs **multiple** times in the String (like \"the\" in the above examplle), the find() method will return the first index it finds that parameter at (which is index 32 for the word \"the\"). \n",
    "\n",
    "2) Observe how we use print() to print our results...we can actually get the results without using the print() function, BUT because of the way Jupyter notebook is configured, it will only return the result of the very last function/step it executed. If we try not using print() in the above example, we get"
   ]
  },
  {
   "cell_type": "code",
   "execution_count": 7,
   "metadata": {},
   "outputs": [
    {
     "data": {
      "text/plain": [
       "32"
      ]
     },
     "execution_count": 7,
     "metadata": {},
     "output_type": "execute_result"
    }
   ],
   "source": [
    "mySentence = \"Sally Smith sells sea shells on the sea shore and donates the profits to the local panda shelter.\"\n",
    "mySentence.find(\"sells\")\n",
    "mySentence.find(\"local\")\n",
    "mySentence.find(\"the\")"
   ]
  },
  {
   "cell_type": "markdown",
   "metadata": {},
   "source": [
    "Since the last step performed was mySentence.find(\"the\"), the notebook only gave back the result for that step, which was 32. So, if you need to see the results of multiple steps, use print()!"
   ]
  },
  {
   "cell_type": "markdown",
   "metadata": {},
   "source": [
    "We can also use rfind() to find the LAST index that a word/letter can be found at. Take the word \"the\" in mySentence from the last example:"
   ]
  },
  {
   "cell_type": "code",
   "execution_count": 8,
   "metadata": {},
   "outputs": [
    {
     "data": {
      "text/plain": [
       "73"
      ]
     },
     "execution_count": 8,
     "metadata": {},
     "output_type": "execute_result"
    }
   ],
   "source": [
    "mySentence = \"Sally Smith sells sea shells on the sea shore and donates the profits to the local panda shelter.\"\n",
    "mySentence.rfind(\"the\")"
   ]
  },
  {
   "cell_type": "markdown",
   "metadata": {},
   "source": [
    "Instead of 32, we get 73, which is the last index the word \"the\" appears at in mySentence. Try using the find() method with a sentence and parameter of your own:"
   ]
  },
  {
   "cell_type": "code",
   "execution_count": null,
   "metadata": {},
   "outputs": [],
   "source": [
    "#Your code goes here\n",
    "\n",
    "\n"
   ]
  },
  {
   "cell_type": "markdown",
   "metadata": {},
   "source": [
    "There are also methods which can \"change\" a String — they don't actually change the String itself, rather they return a NEW String with the altered contents.\n",
    "\n",
    "The most useful \"content-altering\" functions are lower(), strip(), split(), and replace().\n",
    "The lower() function makes an entire String lowercase. For example:"
   ]
  },
  {
   "cell_type": "code",
   "execution_count": 1,
   "metadata": {},
   "outputs": [
    {
     "data": {
      "text/plain": [
       "'this sentence is capitalized so oddly...'"
      ]
     },
     "execution_count": 1,
     "metadata": {},
     "output_type": "execute_result"
    }
   ],
   "source": [
    "str3 = \"tHiS SeNTenCE is capITALIzed sO OdDlY...\"\n",
    "str3.lower()"
   ]
  },
  {
   "cell_type": "markdown",
   "metadata": {},
   "source": [
    "The result is a lowercase version of str3, however, if we actually check the contents of str3, we'll see that it actually didn't change:"
   ]
  },
  {
   "cell_type": "code",
   "execution_count": 2,
   "metadata": {},
   "outputs": [
    {
     "name": "stdout",
     "output_type": "stream",
     "text": [
      "tHiS SeNTenCE is capITALIzed sO OdDlY...\n"
     ]
    }
   ],
   "source": [
    "print(str3)"
   ]
  },
  {
   "cell_type": "markdown",
   "metadata": {},
   "source": [
    "To save the changes to any given String, you either need to save the \"altered version\" as another variable OR (and this is normally the preferred choice) save it into the same variable. You can do this as follows:"
   ]
  },
  {
   "cell_type": "code",
   "execution_count": 3,
   "metadata": {},
   "outputs": [
    {
     "name": "stdout",
     "output_type": "stream",
     "text": [
      "this sentence is capitalized so oddly...\n",
      "this sentence is capitalized so oddly...\n"
     ]
    }
   ],
   "source": [
    "str3 = \"tHiS SeNTenCE is capITALIzed sO OdDlY...\"\n",
    "str4 = str3.lower()\n",
    "str3 = str3.lower()\n",
    "\n",
    "print(str4)\n",
    "print(str3)"
   ]
  },
  {
   "cell_type": "markdown",
   "metadata": {},
   "source": [
    "As you can see, str4 and str3 are now equal to the lowercase version of the original str3. As a rule of thumb, you will have to do this for any \"content-altering\" method (at least for Strings). "
   ]
  },
  {
   "cell_type": "markdown",
   "metadata": {},
   "source": [
    "The strip() method takes off any white spaces at the beginning or end of a String. This is important because people may accidentally type unnecessaryw whitespaces when entering their data into the scouting form, which can disrupt the functionality of the code."
   ]
  },
  {
   "cell_type": "code",
   "execution_count": 6,
   "metadata": {},
   "outputs": [
    {
     "name": "stdout",
     "output_type": "stream",
     "text": [
      "bananas are amahzing\n",
      "bananas are disgusting\n",
      "I love banana splits\n"
     ]
    }
   ],
   "source": [
    "str5 = \"bananas are amahzing    \"\n",
    "str6 = \"    bananas are disgusting\"\n",
    "str7 = \"   I love banana splits     \"\n",
    "\n",
    "str5 = str5.strip()\n",
    "str6 = str6.strip()\n",
    "str7 = str7.strip()\n",
    "\n",
    "print(str5)\n",
    "print(str6)\n",
    "print(str7)"
   ]
  },
  {
   "cell_type": "markdown",
   "metadata": {},
   "source": [
    "Any whitespace at the beginning of str6 and str7 has been removed, and we can see that the whitespace and the ends of  str5 and str7 has also been removed:"
   ]
  },
  {
   "cell_type": "code",
   "execution_count": 7,
   "metadata": {},
   "outputs": [
    {
     "data": {
      "text/plain": [
       "'bananas are amahzing'"
      ]
     },
     "execution_count": 7,
     "metadata": {},
     "output_type": "execute_result"
    }
   ],
   "source": [
    "str5"
   ]
  },
  {
   "cell_type": "code",
   "execution_count": 8,
   "metadata": {},
   "outputs": [
    {
     "data": {
      "text/plain": [
       "'I love banana splits'"
      ]
     },
     "execution_count": 8,
     "metadata": {},
     "output_type": "execute_result"
    }
   ],
   "source": [
    "str7"
   ]
  },
  {
   "cell_type": "markdown",
   "metadata": {},
   "source": [
    "The split() function looks at a String at splits it up into multiple words based on a delimeter (which you enter in as a String), and then takes those words and puts them in a list. If you don't pass a delimeter as a parameter, split() will automatically use a singular space as the delimeter. This function also ignores whitespace before and after a String. Observe:"
   ]
  },
  {
   "cell_type": "code",
   "execution_count": 2,
   "metadata": {},
   "outputs": [
    {
     "name": "stdout",
     "output_type": "stream",
     "text": [
      "['bananas', 'are', 'amahzing']\n",
      "['bananas', 'are', 'disgusting']\n",
      "['I', 'love', 'banana', 'splits']\n",
      "['bananas', 'are', 'super', 'yummy']\n"
     ]
    }
   ],
   "source": [
    "str5 = \"bananas are amahzing    \"\n",
    "str6 = \"    bananas are disgusting\"\n",
    "str7 = \"   I love banana splits     \"\n",
    "str8 = \"bananasFareFsuperFyummy\"\n",
    "\n",
    "str5 = str5.split()\n",
    "str6 = str6.split()\n",
    "str7 = str7.split()\n",
    "str8 = str8.split(\"F\")\n",
    "\n",
    "print(str5)\n",
    "print(str6)\n",
    "print(str7)\n",
    "print(str8)"
   ]
  },
  {
   "cell_type": "markdown",
   "metadata": {},
   "source": [
    "Try using the split() function on your own sentence in the cell below:"
   ]
  },
  {
   "cell_type": "code",
   "execution_count": 11,
   "metadata": {},
   "outputs": [],
   "source": [
    "#Your code goes here\n",
    "\n",
    "\n"
   ]
  },
  {
   "cell_type": "markdown",
   "metadata": {},
   "source": [
    "The replace() function goes through a String and replaces a given series of characters with another series of characters. The function takes TWO String parameters — the series of characters you are looking for, and the series of characters you want to use as a replacement. Here's an example: "
   ]
  },
  {
   "cell_type": "code",
   "execution_count": 16,
   "metadata": {},
   "outputs": [
    {
     "name": "stdout",
     "output_type": "stream",
     "text": [
      "I like bananas and bananas and bananas and bananas and bananas and bananas.\n"
     ]
    }
   ],
   "source": [
    "str8 = \"I like monkeys and bananas and monkeys and bananas and bananas and monkeys.\"\n",
    "str8 = str8.replace(\"monkeys\", \"bananas\")\n",
    "print(str8)"
   ]
  },
  {
   "cell_type": "markdown",
   "metadata": {},
   "source": [
    "In the above example, we replace every instance of the word \"monkey\" with the word \"banana.\"\n",
    "\n",
    "Try using replace() with your own sentence below:"
   ]
  },
  {
   "cell_type": "code",
   "execution_count": 17,
   "metadata": {},
   "outputs": [],
   "source": [
    "#Your code goes here\n",
    "\n",
    "\n"
   ]
  },
  {
   "cell_type": "markdown",
   "metadata": {},
   "source": [
    "**BOOLEANS, INTEGERS/FLOATS, and CONDITIONAL LOGIC**"
   ]
  },
  {
   "cell_type": "markdown",
   "metadata": {},
   "source": [
    "_Booleans_"
   ]
  },
  {
   "cell_type": "markdown",
   "metadata": {},
   "source": [
    "Booleans are \"True\" or \"False\" values, like in Google Sheets. Note that we don't type \"TRUE\" or \"FALSE\", rather we only capitalize the first letter — unlike Sheets, Python is case sensitive, and will only recognize values of \"True\" and \"False\". "
   ]
  },
  {
   "cell_type": "markdown",
   "metadata": {},
   "source": [
    "There aren't really functions for Booleans, but there are logical operators. Similar to Sheets, Python has its own version of \"AND\" and \"OR,\" and returns T/F on the same criteria as Sheets. To compare using the \"and\" operator, you would type the following:"
   ]
  },
  {
   "cell_type": "code",
   "execution_count": 10,
   "metadata": {},
   "outputs": [
    {
     "name": "stdout",
     "output_type": "stream",
     "text": [
      "Oh, well, that makes sense!\n"
     ]
    }
   ],
   "source": [
    "kidHungry = True\n",
    "ateBanana = False\n",
    "if(kidHungry and ateBanana):\n",
    "    print(\"Go eat another banana!\")\n",
    "else:\n",
    "    print(\"Oh, well, that makes sense!\")"
   ]
  },
  {
   "cell_type": "markdown",
   "metadata": {},
   "source": [
    "You haven't seen IF/ELSE statements before, and you don't need to worry about the specifics quite yet, but it works similarly to how the IF() function works in Google Sheets (the value_if_false that you pass in as a parameter is like the \"else\" part). Focus more on the concept behind using \"and\" and \"or\" as opposed to the syntax of this new statement."
   ]
  },
  {
   "cell_type": "markdown",
   "metadata": {},
   "source": [
    "Putting the reserved keyword \"and\" between two truth expressions is equivalent to using the AND() function in Google Sheets. The syntax for \"or\" is virtually the same.\n",
    "\n",
    "Also observe how we didn't have to write \"if((kid_hungry and ate_banana) == True)\". Python automatically checks whether the truth expresssion is True, so unless you want to check if it's equal to False, no need to put the extra code in. This means you can even write stuff like this:"
   ]
  },
  {
   "cell_type": "code",
   "execution_count": 6,
   "metadata": {},
   "outputs": [
    {
     "name": "stdout",
     "output_type": "stream",
     "text": [
      "There's an apple pie in the fridge...but it's mine.\n"
     ]
    }
   ],
   "source": [
    "kidHungry = True\n",
    "if(kidHungry):\n",
    "    print(\"There's an apple pie in the fridge...but it's mine.\")"
   ]
  },
  {
   "cell_type": "markdown",
   "metadata": {},
   "source": [
    "Create a piece of code (similar to the first example) that uses the \"or\" operator:"
   ]
  },
  {
   "cell_type": "code",
   "execution_count": null,
   "metadata": {},
   "outputs": [],
   "source": [
    "#Your code goes here\n",
    "\n",
    "\n"
   ]
  },
  {
   "cell_type": "markdown",
   "metadata": {},
   "source": [
    "Note that you can also combine truth expressions using the \"and\" and \"or\" operators multiple times (similar to nested AND() and OR() functions in Sheets) as follows:"
   ]
  },
  {
   "cell_type": "code",
   "execution_count": 7,
   "metadata": {},
   "outputs": [
    {
     "name": "stdout",
     "output_type": "stream",
     "text": [
      "I'm not even sure I have friends anymore...:(\n"
     ]
    }
   ],
   "source": [
    "sallyIsFriend = False\n",
    "bobIsFriend = True\n",
    "sammyIsFriend = False\n",
    "johnIsFriend = False\n",
    "\n",
    "if((sallyIsFriend and bobIsFriend) or (sammyIsFriend and johnIsFriend)):\n",
    "    print(\"I have two friends in the same grade level!\")\n",
    "else:\n",
    "    print(\"I'm not even sure I have friends anymore...:(\")"
   ]
  },
  {
   "cell_type": "markdown",
   "metadata": {},
   "source": [
    "Lastly, there's one \"function\" you should be aware of: not(). Like in Sheets, not() just returns the inverse of whatever truth expression you pass into it. Syntactically, not() is used as follows:"
   ]
  },
  {
   "cell_type": "code",
   "execution_count": 19,
   "metadata": {},
   "outputs": [
    {
     "name": "stdout",
     "output_type": "stream",
     "text": [
      "Ah, right, that's because she moved...\n"
     ]
    }
   ],
   "source": [
    "if(not(sallyIsFriend)):\n",
    "    print(\"Ah, right, that's because she moved...\")\n",
    "else:\n",
    "    print(\"Oh, fantastic!\")\n"
   ]
  },
  {
   "cell_type": "markdown",
   "metadata": {},
   "source": [
    "But wait! \"How did the code in the cell work...you didn't establish any variables in there!\" you exclaim.\n",
    "\n",
    "That's the beauty of Jupyter notebook. It interprets this series of cells as one large piece of code, which means any variables that you establish in cells before (or after) this one are saved to a \"collective memory\" and can be accessed by this cell, or any other for that matter. \n",
    "\n",
    "Of course, you have to make sure you run the code (Shift + Enter) in those cells first..."
   ]
  },
  {
   "cell_type": "markdown",
   "metadata": {},
   "source": [
    "_Integers and Floats_"
   ]
  },
  {
   "cell_type": "markdown",
   "metadata": {},
   "source": [
    "There aren't really functions that ONLY apply to integers and floats, but there are operations you can perform with them. These are your typical math operations:\n",
    "\n",
    "1) + (addition) <br>\n",
    "2) - (subtraction) <br>\n",
    "3) * (multiplication) <br>\n",
    "4) / (division) <br>\n",
    "5) ** (exponents) <br>\n",
    "6) % (remainder) <br>\n",
    "\n",
    "These are your mathematical OPERATORS (they will return a Boolean):\n",
    "\n",
    "1) == (equal to) <br>\n",
    "2) > (greater than) <br>\n",
    "3) < (less than) <br>\n",
    "4) >= (greater than or equal to) <br>\n",
    "5) <= (less than or equal to) <br>"
   ]
  },
  {
   "cell_type": "markdown",
   "metadata": {},
   "source": [
    "Three notes:\n",
    "\n",
    "1) We write \"==\" instead of \"=\" because \"=\" already means something in Python: variable assignment. Whenever we set a variableName equal to a value, we write \"variableName = value\". So, we use \"==\" to ask whether two objects are equal to avoid confusion. <br>\n",
    "\n",
    "2) To see how the remainder operation works, let's say we have two numbers, num1 = 19 and num2 = 5. Executing the code \"num1 % num2\" finds the remainder after dividing num1 by num2. Mathematically, we divide 19/5 and see that there is a remainder of 4. IF we execute \"num2 % num1\", it will return num2 itself. Why? Well think about it mathematically: this is the same thing as 5/19, but because 5 is less than the first positive multiple of 19, the quotient is less than 1! That means the remainder must be the number itself. \n",
    "\n",
    "If you're still a little confused on the technicalities of the remainder operator, go to this link: https://www.khanacademy.org/computing/computer-science/cryptography/modarithmetic/a/what-is-modular-arithmetic. It should clear things up. <br>\n",
    "\n",
    "3) For the exponent operation, we need two numbers: the base and the exponent. The base is merely the number that we will multiply itself by a certain number of times. Let's say we have num1 = 6 and num2 = 2. \"num2**num1\" would equal 64 (which is the same as raising 2 to the 6th power). More on exponents here: https://www.khanacademy.org/math/pre-algebra/pre-algebra-exponents-radicals/pre-algebra-exponents/a/introduction-to-exponents.\n",
    "\n",
    "\n",
    "Here are some examples using these mathematical operators/operations:"
   ]
  },
  {
   "cell_type": "code",
   "execution_count": 22,
   "metadata": {},
   "outputs": [
    {
     "name": "stdout",
     "output_type": "stream",
     "text": [
      "20\n",
      "16\n",
      "42\n",
      "49\n",
      "3.0\n",
      "4\n",
      "  \n",
      "True\n",
      "False\n",
      "True\n"
     ]
    }
   ],
   "source": [
    "numBananas = 18\n",
    "numApples = 2\n",
    "numOranges = 6\n",
    "numGuavas = 7 \n",
    "bestNumberEver = 7\n",
    "\n",
    "print(numBananas + numApples)\n",
    "print(numBananas - numApples)\n",
    "print(numGuavas * numOranges)\n",
    "print(numGuavas ** numApples)\n",
    "print(numBananas/numOranges)\n",
    "print(numBananas % numGuavas)\n",
    "print(\"  \") #not an operation or an operator, just here for formatting purposes\n",
    "print(numBananas > numOranges)\n",
    "print(numBananas < numGuavas)\n",
    "print(numGuavas == bestNumberEver)"
   ]
  },
  {
   "cell_type": "markdown",
   "metadata": {},
   "source": [
    "**LISTS**"
   ]
  },
  {
   "cell_type": "markdown",
   "metadata": {},
   "source": [
    "Lists track elements by \"index\", similar to the way Strings track the position of letters and characters.\n",
    "\n",
    "Let's say we have this list:"
   ]
  },
  {
   "cell_type": "code",
   "execution_count": 33,
   "metadata": {},
   "outputs": [],
   "source": [
    "weekOneRain = [5.1, 4.6, 7.8, 9.0, 1.9, 2.4, 6, 2.38]"
   ]
  },
  {
   "cell_type": "markdown",
   "metadata": {},
   "source": [
    "To access an element in this list, we write \"weekOneRain[index#]\". Here are some examples:"
   ]
  },
  {
   "cell_type": "code",
   "execution_count": 34,
   "metadata": {},
   "outputs": [
    {
     "name": "stdout",
     "output_type": "stream",
     "text": [
      "5.1\n",
      "1.9\n",
      "2.38\n"
     ]
    }
   ],
   "source": [
    "print(weekOneRain[0])\n",
    "print(weekOneRain[4])\n",
    "print(weekOneRain[7])"
   ]
  },
  {
   "cell_type": "markdown",
   "metadata": {},
   "source": [
    "Remember, indexes start at 0! \n",
    "\n",
    "Let's say we want to access the last element of the list.  We won't always know the length of the list (and it can change, too), so the best way to access the last element is to use the len() function. This computes the length (number of elements) of whatever list you put into it. \n",
    "\n",
    "To use this to find the object in the last position of weekOneRain, we pass \"len(weekOneRain) - 1\" as the index. Why? Well, let's think about a list with three elements. The first is at index 0, the second at index 1, and the third at index 2...starting at 0 sets the index to 1 less than our \"common sense\" says it should be. \n",
    "\n",
    "That's a lot of words, so this is what it looks like in code:"
   ]
  },
  {
   "cell_type": "code",
   "execution_count": 29,
   "metadata": {},
   "outputs": [
    {
     "name": "stdout",
     "output_type": "stream",
     "text": [
      "2.38\n"
     ]
    }
   ],
   "source": [
    "print(weekOneRain[len(weekOneRain) -1])"
   ]
  },
  {
   "cell_type": "markdown",
   "metadata": {},
   "source": [
    "If we try to change the list, the piece of the code above will still give the last element of the list, as seen below:"
   ]
  },
  {
   "cell_type": "code",
   "execution_count": 30,
   "metadata": {},
   "outputs": [
    {
     "name": "stdout",
     "output_type": "stream",
     "text": [
      "6\n"
     ]
    }
   ],
   "source": [
    "weekOneRain = [5.1, 4.6, 7.8, 9.0, 1.9, 2.4, 6]\n",
    "print(weekOneRain[len(weekOneRain) -1])"
   ]
  },
  {
   "cell_type": "markdown",
   "metadata": {},
   "source": [
    "There are other ways to change lists, as opposed to manually redefining and editing them. The most basic of them is the append() method. \n",
    "\n",
    "You call the append method ON a list, and pass in the object you want to add to the list as a parameter. This function will ALWAYS add the object to the end of the list. \n",
    "\n",
    "A lot of the times, however, we want to INSERT the object at a specific index in the list. To do this, we use insert(). This is also called ON a  list, but it takes two parameters: first, the index you want to insert the object at, and second, the object itself.\n",
    "\n",
    "Here are examples using append() and insert():"
   ]
  },
  {
   "cell_type": "code",
   "execution_count": 35,
   "metadata": {},
   "outputs": [
    {
     "name": "stdout",
     "output_type": "stream",
     "text": [
      "[5.1, 4.6, 7.8, 9.0, 1.9, 2.4, 6, 7.8]\n"
     ]
    }
   ],
   "source": [
    "weekOneRain = [5.1, 4.6, 7.8, 9.0, 1.9, 2.4, 6]\n",
    "weekOneRain.append(7.8)\n",
    "print(weekOneRain)"
   ]
  },
  {
   "cell_type": "code",
   "execution_count": 36,
   "metadata": {},
   "outputs": [
    {
     "name": "stdout",
     "output_type": "stream",
     "text": [
      "[5.1, 4.6, 4.557, 7.8, 9.0, 1.9, 2.4, 6, 7.8]\n"
     ]
    }
   ],
   "source": [
    "#look at how the INDEX GOES FIRST here...order really matters!\n",
    "weekOneRain.insert(2, 4.557)\n",
    "print(weekOneRain)"
   ]
  },
  {
   "cell_type": "markdown",
   "metadata": {},
   "source": [
    "Similarly, if you want to remove an item, you can use the remove() function. This is called ON a list, and takes the value of the object you want to remove as a parameter. If there are multiple instances of that value (say the number 7 appears three times), only the first instance will be removed.\n",
    "\n",
    "If you want to remove an object at a specific index, use the pop() function. This is also called ON a list, and takes the index of the object you want to remove as a parameter. If you want the last object removed, you can skip the parameter (it will automatically remove it). \n",
    "\n",
    "More examples (yay):"
   ]
  },
  {
   "cell_type": "code",
   "execution_count": 41,
   "metadata": {},
   "outputs": [
    {
     "name": "stdout",
     "output_type": "stream",
     "text": [
      "[5.1, 4.6, 7.8, 9.0, 1.9, 2.4, 6, 7.8]\n"
     ]
    }
   ],
   "source": [
    "weekOneRain = [5.1, 4.6, 4.557, 7.8, 9.0, 1.9, 2.4, 6, 7.8]\n",
    "weekOneRain.remove(4.557)\n",
    "print(weekOneRain)"
   ]
  },
  {
   "cell_type": "code",
   "execution_count": 42,
   "metadata": {},
   "outputs": [
    {
     "name": "stdout",
     "output_type": "stream",
     "text": [
      "[5.1, 4.6, 7.8, 9.0, 1.9, 2.4, 6]\n",
      "[4.6, 7.8, 9.0, 1.9, 2.4, 6]\n"
     ]
    }
   ],
   "source": [
    "weekOneRain.pop() #no parameter, removes last element of weekOne\n",
    "print(weekOneRain)\n",
    "weekOneRain.pop(0)\n",
    "print(weekOneRain)"
   ]
  },
  {
   "cell_type": "markdown",
   "metadata": {},
   "source": [
    "We can also do fancier things with these lists, like sorting them! To do this, we use the sort() method, which will sort a list from least to greatest. It is called ON a list, and takes two parameters. We will only concern ourselves with one of them (for now), which is the reverse parameter. This is actually a True or False value (if it's False, there's really no need to specify it, just leave the parameter section empty. \n",
    "\n",
    "Furthermore, these functions don't actually return a sorted list (we cannot just print \"weekOneRain.sort()\"), rather it alters the original list. Observe below:"
   ]
  },
  {
   "cell_type": "code",
   "execution_count": 44,
   "metadata": {},
   "outputs": [
    {
     "name": "stdout",
     "output_type": "stream",
     "text": [
      "[9.0, 7.8, 6, 4.6, 2.4, 1.9]\n",
      "None\n",
      "[1.9, 2.4, 4.6, 6, 7.8, 9.0]\n",
      "None\n",
      "[9.0, 7.8, 6, 4.6, 2.4, 1.9]\n"
     ]
    }
   ],
   "source": [
    "print(weekOneRain)\n",
    "print(weekOneRain.sort()) #can't really do this\n",
    "print(weekOneRain) #printing the altered list\n",
    "print(weekOneRain.sort(reverse = True)) #can't really do this either\n",
    "print(weekOneRain) #print the altered list"
   ]
  },
  {
   "cell_type": "markdown",
   "metadata": {},
   "source": [
    "There are going to be more advanced functions that we will cover in the future, but this is it for now! "
   ]
  },
  {
   "cell_type": "markdown",
   "metadata": {},
   "source": [
    "**102 EXERCISE INSTRUCTIONS**"
   ]
  },
  {
   "cell_type": "markdown",
   "metadata": {},
   "source": [
    "*You will be working for the following list for the exercises that follow:*"
   ]
  },
  {
   "cell_type": "code",
   "execution_count": 4,
   "metadata": {},
   "outputs": [],
   "source": [
    "myHobbies = [\"      collecting PennIES\", \"STAMPS ARE COOL\", \"Volunteering at soup kitchens and giving food to the homeless at the San Diego Homeless Shelter\", \"collageing and scrapbooking and yearbooking\"]"
   ]
  },
  {
   "cell_type": "markdown",
   "metadata": {},
   "source": [
    "Access the first and third elements of myHobbies."
   ]
  },
  {
   "cell_type": "code",
   "execution_count": null,
   "metadata": {},
   "outputs": [],
   "source": []
  },
  {
   "cell_type": "markdown",
   "metadata": {},
   "source": [
    "Strip the first element of myHobbies."
   ]
  },
  {
   "cell_type": "code",
   "execution_count": null,
   "metadata": {},
   "outputs": [],
   "source": [
    "#to call methods on certain elements of a list, you cannot write list.method(), \n",
    "#you must access the element FIRST and then call the method, i.e. list[index].method()\n",
    "\n"
   ]
  },
  {
   "cell_type": "markdown",
   "metadata": {},
   "source": [
    "Make the first and second elements of myHobbies all lowercase (remember to print both results, otherwise you'll only see one!). "
   ]
  },
  {
   "cell_type": "code",
   "execution_count": null,
   "metadata": {},
   "outputs": [],
   "source": []
  },
  {
   "cell_type": "markdown",
   "metadata": {},
   "source": [
    " Strip third element of myHobbies."
   ]
  },
  {
   "cell_type": "code",
   "execution_count": null,
   "metadata": {},
   "outputs": [],
   "source": []
  },
  {
   "cell_type": "markdown",
   "metadata": {},
   "source": [
    "Find the first index where the word \"the\" appears in the third element of myHobbies."
   ]
  },
  {
   "cell_type": "code",
   "execution_count": null,
   "metadata": {},
   "outputs": [],
   "source": []
  },
  {
   "cell_type": "markdown",
   "metadata": {},
   "source": [
    "Find the last index where the word \"at\" appears in the third element of myHobbies."
   ]
  },
  {
   "cell_type": "code",
   "execution_count": null,
   "metadata": {},
   "outputs": [],
   "source": []
  },
  {
   "cell_type": "markdown",
   "metadata": {},
   "source": [
    "Replace the instances of the suffix \"ing\" in the fourth element of myHobbies with \"s\". "
   ]
  },
  {
   "cell_type": "code",
   "execution_count": null,
   "metadata": {},
   "outputs": [],
   "source": []
  },
  {
   "cell_type": "markdown",
   "metadata": {},
   "source": [
    "*We won't be testing the mathematical and boolean operators (you know enough about them from Google Sheets). Moving onto more list specific exercises, this is the list you'll be working with:*"
   ]
  },
  {
   "cell_type": "code",
   "execution_count": 5,
   "metadata": {},
   "outputs": [],
   "source": [
    "myInformation = [\"Jackie\", 18, 2002, \"August 31st\", 10, myHobbies, True]"
   ]
  },
  {
   "cell_type": "markdown",
   "metadata": {},
   "source": [
    "Remove the list \"myHobbies\" from myInformation. "
   ]
  },
  {
   "cell_type": "code",
   "execution_count": null,
   "metadata": {},
   "outputs": [],
   "source": []
  },
  {
   "cell_type": "markdown",
   "metadata": {},
   "source": [
    "Remove the third item of myInformation. (careful!)"
   ]
  },
  {
   "cell_type": "code",
   "execution_count": null,
   "metadata": {},
   "outputs": [],
   "source": []
  },
  {
   "cell_type": "markdown",
   "metadata": {},
   "source": [
    "Append an object of your choice to myInformation."
   ]
  },
  {
   "cell_type": "code",
   "execution_count": null,
   "metadata": {},
   "outputs": [],
   "source": []
  },
  {
   "cell_type": "markdown",
   "metadata": {},
   "source": [
    "Insert an object of your choice at index 5 of myInformation."
   ]
  },
  {
   "cell_type": "code",
   "execution_count": null,
   "metadata": {},
   "outputs": [],
   "source": []
  },
  {
   "cell_type": "markdown",
   "metadata": {},
   "source": [
    "Sort this list forward and backwards:"
   ]
  },
  {
   "cell_type": "code",
   "execution_count": 9,
   "metadata": {},
   "outputs": [],
   "source": [
    "myTestGrades = [45.67, 78.90, 34.0, 99.99, 21.34, 56.7, 96.2]\n",
    "\n",
    "\n"
   ]
  }
 ],
 "metadata": {
  "celltoolbar": "Raw Cell Format",
  "kernelspec": {
   "display_name": "Python 3",
   "language": "python",
   "name": "python3"
  },
  "language_info": {
   "codemirror_mode": {
    "name": "ipython",
    "version": 3
   },
   "file_extension": ".py",
   "mimetype": "text/x-python",
   "name": "python",
   "nbconvert_exporter": "python",
   "pygments_lexer": "ipython3",
   "version": "3.8.5"
  }
 },
 "nbformat": 4,
 "nbformat_minor": 4
}
