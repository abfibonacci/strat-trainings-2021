{
 "cells": [
  {
   "cell_type": "markdown",
   "metadata": {},
   "source": [
    "**Welcome to Python 107!**"
   ]
  },
  {
   "cell_type": "markdown",
   "metadata": {},
   "source": [
    "Last week, we covered how to use Pandas as well as Google Sheets integration with Python. For this training, we are going to be analyzing code from the 2019-20 season and seeing how it all comes together!"
   ]
  },
  {
   "cell_type": "markdown",
   "metadata": {},
   "source": [
    "**LAST YEAR'S LINKS**"
   ]
  },
  {
   "cell_type": "markdown",
   "metadata": {},
   "source": [
    "Code: https://drive.google.com/file/d/1kJBvEQBXF5WmQe3zbbAEM0LGpuZPe1ZV/view?usp=sharing \n",
    "\n",
    "Scouting Form: https://team2485.github.io/ \n",
    "\n",
    "Calc Sheet: https://docs.google.com/spreadsheets/d/1VPLwX16BuVGK_fVZ6bUqVimirRuYFq7PrTi1rlL0wzg/edit?usp=sharing\n",
    "\n",
    "Interface: https://docs.google.com/spreadsheets/d/10KdM8dD3Ls4NgZ3DUYyPdiyt9580QFnhTDckvXKboMI/edit?usp=sharing\n",
    "\n",
    "RawData: https://docs.google.com/spreadsheets/d/1UVFypXtXVBPfgTn2fldWoPpxq1avXa_brMelm5PKMlA/edit?usp=sharing"
   ]
  },
  {
   "cell_type": "markdown",
   "metadata": {},
   "source": [
    "**THE GRAND TOUR**"
   ]
  },
  {
   "cell_type": "markdown",
   "metadata": {},
   "source": [
    "Now that you know enough Python to understand the backend of the interface, let's take a little tour! Go ahead and open up the RawData, Interface, and Calc sheets. Split your screen and open the Code file on the other half. You and your trainer will go through the sections of the code, figuring out/explaining what certain parts of the code do as well as seeing how they correlate to the sheets themselves! Have fun!\n",
    "\n",
    "\n",
    "\n"
   ]
  },
  {
   "cell_type": "markdown",
   "metadata": {},
   "source": [
    "**ONE FINAL PROJECT: A SIMULATION**"
   ]
  },
  {
   "cell_type": "markdown",
   "metadata": {},
   "source": [
    "Last week, you create two mini-backends with Python for given prompts. We will now expand on this and have you create a simulated robotics frontend and backend.\n",
    "\n",
    "*INSTRUCTIONS*\n",
    "1. Create a new google \"scouting\" form based on a past robotics season (your choice). Ask questions similar to those in the scouting form above (don't worry about the heatmap questions). Route the results into a google sheet called \"Backend.\" Name the first subsheet \"RawData\".\n",
    "\n",
    "2. Write code that will read the data from RawData, calculate some statistics (check out PerTeamData for an example), and write it into a new subsheet called \"CalcSheet.\" \n",
    "\n",
    "3. Create a google sheets frontend (in a new sheet, not subsheet) by importing the data and using your formatting skills! \n"
   ]
  }
 ],
 "metadata": {
  "kernelspec": {
   "display_name": "Python 3",
   "language": "python",
   "name": "python3"
  },
  "language_info": {
   "codemirror_mode": {
    "name": "ipython",
    "version": 3
   },
   "file_extension": ".py",
   "mimetype": "text/x-python",
   "name": "python",
   "nbconvert_exporter": "python",
   "pygments_lexer": "ipython3",
   "version": "3.8.5"
  }
 },
 "nbformat": 4,
 "nbformat_minor": 4
}
