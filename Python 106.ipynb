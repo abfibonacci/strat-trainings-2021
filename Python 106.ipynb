{
 "cells": [
  {
   "cell_type": "markdown",
   "metadata": {},
   "source": [
    "**Welcome to Python 106!**"
   ]
  },
  {
   "cell_type": "markdown",
   "metadata": {},
   "source": [
    "Last week, we talked about Numpy and how to use it; this week, we're going to be talking about an even more powerful data library — Pandas."
   ]
  },
  {
   "cell_type": "markdown",
   "metadata": {},
   "source": [
    "**BASICS**"
   ]
  },
  {
   "cell_type": "markdown",
   "metadata": {},
   "source": [
    "To have an understanding of Pandas and its functionality, you'll (very roughly) need to know what a Python dictionary, another one of Python's datatypes, is. You won't be learning any dictionary-related methods, but an understanding of WHAT a dictionary actually is will serve you well. Go to this link and read until the \"Nested Dictionaries\" section: https://www.geeksforgeeks.org/python-dictionary/. "
   ]
  },
  {
   "cell_type": "markdown",
   "metadata": {},
   "source": [
    "Now that you know what a dictionary is, go ahead and follow along with the explanations and examples in this link: https://www.geeksforgeeks.org/python-pandas-dataframe/. Create your OWN dataframe (copy paste their code and edit the values here) and perform similar operations to those in the examples. \n",
    "\n",
    "\n",
    "Once you've gone through the main content at the page, look at the explanations for the following methods https://pandas.pydata.org/pandas-docs/stable/reference/api/pandas.DataFrame.dropna.html): **index(), insert(), columns(), iloc(), loc(), drop(), pop(), shape(), dropna(), fillna(), copy(), where().** Remember to FOLLOW ALONG with your own dataframe. \n",
    "\n",
    "Lastly, scroll to the bottom of this link: https://pandas.pydata.org/pandas-docs/stable/reference/api/pandas.DataFrame.html. Look at the **abs(), append(), apply(), isna(), isnull(), max(), mean(), median(), min(), notna(), notnull(), rename(), round(), and sum()** methods. Don't forget to try these yourself!"
   ]
  },
  {
   "cell_type": "code",
   "execution_count": 2,
   "metadata": {},
   "outputs": [
    {
     "name": "stdout",
     "output_type": "stream",
     "text": [
      "Joe\n",
      "Jane\n"
     ]
    }
   ],
   "source": [
    "#Following along here\n",
    "\n",
    "apple1 ={'name': 'Joe', 'age':700, 'weight':15}\n",
    "apple2 ={'name': 'Jane', 'age':650, 'weight':10}\n",
    "apples = {'Name': [\"Joe\", \"Jane\", \"Bob\"], 'Age':[700, 650, 600], 'Weight': [30, 6, 20]}\n",
    "\n",
    "print(apple1.get('name'))\n",
    "print(apple2.get('name'))"
   ]
  },
  {
   "cell_type": "code",
   "execution_count": 2,
   "metadata": {},
   "outputs": [],
   "source": [
    "#Following along here\n"
   ]
  },
  {
   "cell_type": "code",
   "execution_count": null,
   "metadata": {},
   "outputs": [],
   "source": [
    "#Following along here\n"
   ]
  },
  {
   "cell_type": "code",
   "execution_count": 1,
   "metadata": {},
   "outputs": [],
   "source": [
    "#Following along here\n"
   ]
  },
  {
   "cell_type": "code",
   "execution_count": null,
   "metadata": {},
   "outputs": [],
   "source": [
    "#Following along here\n",
    "\n"
   ]
  },
  {
   "cell_type": "markdown",
   "metadata": {},
   "source": [
    "**NUMPY AND PANDAS**"
   ]
  },
  {
   "cell_type": "markdown",
   "metadata": {},
   "source": [
    "Pandas relies heavily on NumPy arrays for its Series (go over this briefly at this link:https://www.geeksforgeeks.org/python-pandas-series/)  and Dataframe datatypes. Its functionality is also intended to draw on that provided by Numpy. "
   ]
  },
  {
   "cell_type": "markdown",
   "metadata": {},
   "source": [
    "**INTEGRATING GOOGLE SHEETS**"
   ]
  },
  {
   "cell_type": "markdown",
   "metadata": {},
   "source": [
    "First, follow these instructions (under \"Setting Up Google Sheets API\") to get your credentials from the Google AP: https://medium.com/@CROSP/manage-google-spreadsheets-with-python-and-gspread-6530cc9f15d1. No need to go further than the API setup on that link. \n",
    "\n",
    "Move your credentials file into the same folder as this Jupyter notebook. Rename the file \"client_secret.json\" if it doesn't already have that name. \n",
    "\n",
    "Create a Google Sheet called \"TestSheet\". Rename the subsheet \"Worksheet1\".\n",
    "\n",
    "\n",
    "Run the following code:\n"
   ]
  },
  {
   "cell_type": "markdown",
   "metadata": {},
   "source": [
    "*RUN THE FOLLOWING IN TERMINAL:*\n",
    "\n",
    "\n",
    "\n",
    "pip3 install authlib, requests, pygsheets, gspread\n",
    "\n",
    "ALSO, share your TestSheet with the email in your client_secret.json file\n"
   ]
  },
  {
   "cell_type": "code",
   "execution_count": 10,
   "metadata": {},
   "outputs": [
    {
     "data": {
      "text/plain": [
       "{'spreadsheetId': '1nSl-b01VJ8pepBA1ruCa8dJO2wxzdTzSIR6pBu-K-t4',\n",
       " 'updatedRange': 'Worksheet1!B42',\n",
       " 'updatedRows': 1,\n",
       " 'updatedColumns': 1,\n",
       " 'updatedCells': 1}"
      ]
     },
     "execution_count": 10,
     "metadata": {},
     "output_type": "execute_result"
    }
   ],
   "source": [
    "import gspread\n",
    "from google.oauth2 import service_account\n",
    "from google.auth.transport.requests import AuthorizedSession\n",
    "\n",
    "credentials = service_account.Credentials.from_service_account_file(\n",
    "    'client_secret.json')\n",
    "\n",
    "scoped_credentials = credentials.with_scopes(['https://www.googleapis.com/auth/spreadsheets','https://spreadsheets.google.com/feeds', 'https://www.googleapis.com/auth/drive' ])\n",
    "\n",
    "gc = gspread.Client(auth=scoped_credentials)\n",
    "gc.session = AuthorizedSession(scoped_credentials)\n",
    "wks = gc.open(\"TestSheet\").sheet1\n",
    "wks.update('B42', \"it's down there somewhere, let me take another look.\")\n"
   ]
  },
  {
   "cell_type": "code",
   "execution_count": null,
   "metadata": {},
   "outputs": [],
   "source": []
  },
  {
   "cell_type": "markdown",
   "metadata": {},
   "source": [
    "To edit the cells in our sheet, we need to edit our dataframe, and then write our dataframe values to the cell list. \n",
    "The cell list is a list of all the cells in your sheet, starting with A1, A2, A3, ... so on so forth. To update, say, A1, we write:\n"
   ]
  },
  {
   "cell_type": "code",
   "execution_count": null,
   "metadata": {},
   "outputs": [],
   "source": [
    "df[0][0] = 17 \n",
    "cell_list[0].value = df[0][0] #we always need the .value\n",
    "wks.update_cells(cell_list)"
   ]
  },
  {
   "cell_type": "markdown",
   "metadata": {},
   "source": [
    "**PROJECT (do with trainer)**"
   ]
  },
  {
   "cell_type": "markdown",
   "metadata": {},
   "source": [
    "In your test sheet, create a table that represents shopper data for an online store. Include data points such as Name, ID number, Most Frequently Purchased Item, etc. Create a section below for random data points like Longest Name, Lowest ID Number, Average Cost, etc. \n",
    "\n",
    "Using a copy of the above code (you will have to change the words \"TestSheet\" to the sheet of your name, \"Worksheet1\" to the name of your subsheet), turn that data into a Pandas Dataframe.\n",
    "\n",
    "Calculate the datapoints in your interface. Create a new dataframe to hold these points, and then use .value and update_cells() to write the values into the sheet. \n",
    "\n",
    "PLEASE comment throughout the code to indicate what piece of code does what task. It's a vital practice when we do such calculations on a larger scale."
   ]
  },
  {
   "cell_type": "code",
   "execution_count": null,
   "metadata": {},
   "outputs": [],
   "source": [
    "#Project code\n",
    "\n",
    "\n",
    "\n",
    "\n",
    "\n",
    "\n",
    "\n",
    "\n",
    "\n",
    "\n",
    "\n",
    "\n",
    "\n",
    "\n",
    "\n",
    "\n",
    "\n"
   ]
  },
  {
   "cell_type": "markdown",
   "metadata": {},
   "source": [
    "**SOLO PROJECT**"
   ]
  },
  {
   "cell_type": "markdown",
   "metadata": {},
   "source": [
    "Repeat what we did above, but instead with an interface that represents students in a classroom. Try using a custom function!"
   ]
  },
  {
   "cell_type": "code",
   "execution_count": null,
   "metadata": {},
   "outputs": [],
   "source": [
    "#Project code\n",
    "\n",
    "\n",
    "\n",
    "\n",
    "\n",
    "\n",
    "\n",
    "\n",
    "\n",
    "\n",
    "\n",
    "\n",
    "\n",
    "\n",
    "\n",
    "\n",
    "\n",
    "\n",
    "\n",
    "\n",
    "\n"
   ]
  }
 ],
 "metadata": {
  "kernelspec": {
   "display_name": "Python 3",
   "language": "python",
   "name": "python3"
  },
  "language_info": {
   "codemirror_mode": {
    "name": "ipython",
    "version": 3
   },
   "file_extension": ".py",
   "mimetype": "text/x-python",
   "name": "python",
   "nbconvert_exporter": "python",
   "pygments_lexer": "ipython3",
   "version": "3.9.0"
  }
 },
 "nbformat": 4,
 "nbformat_minor": 4
}
