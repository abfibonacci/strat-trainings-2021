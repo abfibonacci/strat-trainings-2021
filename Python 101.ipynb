{
 "cells": [
  {
   "cell_type": "markdown",
   "metadata": {},
   "source": [
    "**Welcome to Python 101!** \n",
    "\n",
    "To begin, we are going to run a simple program to ensure everything is functioning as it should! Go ahead and execute the following code by clicking on the \"cell\" (the box where the code is), and then pressing shift + return. "
   ]
  },
  {
   "cell_type": "code",
   "execution_count": null,
   "metadata": {},
   "outputs": [],
   "source": [
    "print(\"Hello World\")"
   ]
  },
  {
   "cell_type": "markdown",
   "metadata": {},
   "source": [
    "You should see the words \"Hello World\" pop up! \n",
    "\n",
    "Alright, now we are going to make VS code run some code too. Create a folder on your desktop called \"PyTrain{FirstInitialLastName}.\" If my name was Adam Smith, my folder would be called \"PyTrainASmith\". \n",
    "\n",
    "Open VSCode, and click on \"Open Folder\" under the Start section. Select the training folder you just created. It should open a new page with a mostly empty sidebar. Right click in the empty space — a menu should come up. Click \"New File\", and type \"101Along.py\" as the name. \n",
    "\n",
    "Open this file by clicking on its name in the sidebar. Copy paste the code from the above cell into the file. Click command + S to save the file. \n",
    "\n",
    "Now, press control + opition + T. A black window should pop up at the bottom of your screen. In that window, type these words: \"python3 101Along.py\". Press enter... the words \"Hello World\" should pop up!"
   ]
  },
  {
   "cell_type": "markdown",
   "metadata": {},
   "source": [
    "Now that everything is in working order, let's learn some things! \n",
    "\n",
    "The most rudimentary building block of code is called a variable. These variables store values that could potentially change (or don't). \n",
    "\n",
    "Here are some examples of variables:"
   ]
  },
  {
   "cell_type": "code",
   "execution_count": null,
   "metadata": {},
   "outputs": [],
   "source": [
    "numBananas = 17\n",
    "isEating = False\n",
    "studentName = \"Carly\"\n",
    "avgTestScore = 87.9\n",
    "wantsApple = True\n",
    "aboutMe = [15, \"Liam\", \"Carpenter\", True, 347.9]"
   ]
  },
  {
   "cell_type": "markdown",
   "metadata": {},
   "source": [
    "There are several different datatypes that a variable can hold — integers (numbers), doubles (numbers with decimal points), Strings (text or words), booleans (True or False variables, like in Sheets), and lists (a collection of values of any type) are some of the most common types! Later on, however, we will learna about more dynamic and advanced types that we use for coding the Python backend."
   ]
  },
  {
   "cell_type": "markdown",
   "metadata": {},
   "source": [
    "Another VITAL concept in Python is the idea of a \"function\". In math, you might know a function as something that takes in an input and spits back an output (which is normally a number). In sheets, it's similar, where you pass a function some parameters (like a range for SUM, or an index for VLOOKUP), and the cell displays a corresponding value.\n",
    "\n",
    "In Python, a function works much the same way. You write the name of the function, put some parameters in parentheses, and it will give you back a value. You can even create your own functions in Python, which is very useful when we want to repeat certain tasks again and again. For now, though, we'll stick to built in functions. Let's take a look at that piece of code you ran earlier:"
   ]
  },
  {
   "cell_type": "code",
   "execution_count": null,
   "metadata": {},
   "outputs": [],
   "source": [
    "print(\"Hello World\")"
   ]
  },
  {
   "cell_type": "markdown",
   "metadata": {},
   "source": [
    "In python, print() is considered a function. It takes a String parameter (though Python will technically take integer and lists, and convert them to Strings for you) and then prints the parameter on your screen. Here are some examples:"
   ]
  },
  {
   "cell_type": "code",
   "execution_count": 3,
   "metadata": {},
   "outputs": [
    {
     "name": "stdout",
     "output_type": "stream",
     "text": [
      "Hey there!\n"
     ]
    }
   ],
   "source": [
    "print(\"Hey there!\")"
   ]
  },
  {
   "cell_type": "code",
   "execution_count": 4,
   "metadata": {},
   "outputs": [
    {
     "name": "stdout",
     "output_type": "stream",
     "text": [
      "Sally\n"
     ]
    }
   ],
   "source": [
    "myFavoritePerson = \"Sally\"\n",
    "print(myFavoritePerson)"
   ]
  },
  {
   "cell_type": "code",
   "execution_count": 5,
   "metadata": {},
   "outputs": [
    {
     "name": "stdout",
     "output_type": "stream",
     "text": [
      "20\n"
     ]
    }
   ],
   "source": [
    "numApples = 20\n",
    "print(numApples)"
   ]
  },
  {
   "cell_type": "code",
   "execution_count": 6,
   "metadata": {},
   "outputs": [
    {
     "name": "stdout",
     "output_type": "stream",
     "text": [
      "['human', 20, True, 7676.9]\n"
     ]
    }
   ],
   "source": [
    "aboutYou = [\"human\", 20, True, 7676.9]\n",
    "print(aboutYou)"
   ]
  },
  {
   "cell_type": "markdown",
   "metadata": {},
   "source": [
    "Notice how the variable names all start with a lowercase letter, and that each word that comes after is capitalized. This is called Camel Case, which will be used in Strategy-related Python files. Another option is using underscores (like about_you or my_favorite_person), which is actually Python standard, but since Camel Case looks cleaner and takes up less space, that's what we'll be using. "
   ]
  },
  {
   "cell_type": "markdown",
   "metadata": {},
   "source": [
    "Now let's talk about general functions, and how they're executed. When we type a function's name, pass the necessary parameters, and run the code, it's considering executing the function. Formally, we say that we are calling the function. \n",
    "\n",
    "Sometimes, we call the function ON an object. Let's take the String function startswith(). This function checks whether a certain String starts with a given String parameter (can be one letter, or multiple), and returns a Boolean (T/F) based on the result. Observe:"
   ]
  },
  {
   "cell_type": "code",
   "execution_count": 10,
   "metadata": {},
   "outputs": [
    {
     "data": {
      "text/plain": [
       "True"
      ]
     },
     "execution_count": 10,
     "metadata": {},
     "output_type": "execute_result"
    }
   ],
   "source": [
    "str1 = \"banana\"\n",
    "str1.startswith(\"b\")"
   ]
  },
  {
   "cell_type": "code",
   "execution_count": 8,
   "metadata": {},
   "outputs": [
    {
     "data": {
      "text/plain": [
       "True"
      ]
     },
     "execution_count": 8,
     "metadata": {},
     "output_type": "execute_result"
    }
   ],
   "source": [
    "str1.startswith(\"ban\")"
   ]
  },
  {
   "cell_type": "code",
   "execution_count": 9,
   "metadata": {},
   "outputs": [
    {
     "data": {
      "text/plain": [
       "False"
      ]
     },
     "execution_count": 9,
     "metadata": {},
     "output_type": "execute_result"
    }
   ],
   "source": [
    "str1.startswith(\"ana\")"
   ]
  },
  {
   "cell_type": "markdown",
   "metadata": {},
   "source": [
    "Other times, we put the object in question as a parameter, as with the print() function. Functions like int() (which turns an object into an integer) and str() (object to String) also takes objects as parameters. They are NOT called ON objects.\n",
    "\n",
    "So how do you know when to do what? Well, the \"dot\" notation tells Python to access all the functions for a datatype — for startswith(), we can only use it on a String, so we type str1.startswith() to tell Python \"take str1, access all the functions we can use on it, and then find the function startswith()\". From there, we pass everything else the function needs to do its job as a **parameter**. Functions like print(), int(), and str() can be used on multiple datatypes, and hence, we don't need to use dot notation.\n",
    "\n",
    "It's a weird concept, so if you are unsure about which notation to use, google the function (type *function name goes here* documentation). \n",
    "\n",
    "Alright, that being said, here are some exercises!"
   ]
  },
  {
   "cell_type": "markdown",
   "metadata": {},
   "source": [
    "**101 EXERCISE INSTRUCTIONS**"
   ]
  },
  {
   "cell_type": "markdown",
   "metadata": {},
   "source": [
    "Write out a variable that represents the number of bananas in a super market (whatever number you want):"
   ]
  },
  {
   "cell_type": "code",
   "execution_count": null,
   "metadata": {},
   "outputs": [],
   "source": []
  },
  {
   "cell_type": "markdown",
   "metadata": {},
   "source": [
    "Write out a variable that represents the average quiz score for an English class (double please):"
   ]
  },
  {
   "cell_type": "code",
   "execution_count": null,
   "metadata": {},
   "outputs": [],
   "source": []
  },
  {
   "cell_type": "markdown",
   "metadata": {},
   "source": [
    "Write out a variable that contains a list of student's names. Print this (remember, you can put multiple lines of code in a cell!):"
   ]
  },
  {
   "cell_type": "code",
   "execution_count": null,
   "metadata": {},
   "outputs": [],
   "source": []
  },
  {
   "cell_type": "markdown",
   "metadata": {},
   "source": [
    "In the cell below, type (on the right side of the == sign) what you think the DATATYPE is for the following variables. \n",
    "Unfortunately, Python is very particular about how you enter in datatypes, so according to which type you think the variable is, you should type the following:\n",
    "\n",
    "An integer would be int,\n",
    "A String would be str,\n",
    "A boolean would be bool,\n",
    "A list would be list.\n",
    "\n",
    "Don't use quotes, and type them with the exact case and spelling as provided above. The word will turn green if Python recognizes it as a datatype (much like the word \"type\" in the problems themselves).\n",
    "\n",
    "\n",
    "Once you type in what you think the answer is, click on the cell and press Shift + Enter. If you get True, you got it right! If not, try again..."
   ]
  },
  {
   "cell_type": "code",
   "execution_count": null,
   "metadata": {},
   "outputs": [],
   "source": [
    "numOranges = 16\n",
    "type(numOranges) == "
   ]
  },
  {
   "cell_type": "code",
   "execution_count": null,
   "metadata": {},
   "outputs": [],
   "source": [
    "orangeIsTheNewBlack = False\n",
    "type(orangeIsTheNewBlack) == "
   ]
  },
  {
   "cell_type": "code",
   "execution_count": null,
   "metadata": {},
   "outputs": [],
   "source": [
    "myHobbies = [\"biking\", \"button collecting\", \"shoveling\", \"creative writing\"]\n",
    "type(myHobbies) == "
   ]
  },
  {
   "cell_type": "code",
   "execution_count": null,
   "metadata": {},
   "outputs": [],
   "source": [
    "myName = \"Lillie\"\n",
    "type(myName) == "
   ]
  }
 ],
 "metadata": {
  "celltoolbar": "Raw Cell Format",
  "kernelspec": {
   "display_name": "Python 3",
   "language": "python",
   "name": "python3"
  },
  "language_info": {
   "codemirror_mode": {
    "name": "ipython",
    "version": 3
   },
   "file_extension": ".py",
   "mimetype": "text/x-python",
   "name": "python",
   "nbconvert_exporter": "python",
   "pygments_lexer": "ipython3",
   "version": "3.8.4"
  }
 },
 "nbformat": 4,
 "nbformat_minor": 4
}
